{
 "cells": [
  {
   "cell_type": "code",
   "execution_count": 1,
   "id": "dba6b4c6",
   "metadata": {},
   "outputs": [
    {
     "name": "stdout",
     "output_type": "stream",
     "text": [
      "Requirement already satisfied: tqdm in c:\\users\\user\\anaconda3\\lib\\site-packages (4.65.0)Note: you may need to restart the kernel to use updated packages.\n",
      "\n",
      "Requirement already satisfied: colorama in c:\\users\\user\\anaconda3\\lib\\site-packages (from tqdm) (0.4.6)\n"
     ]
    }
   ],
   "source": [
    "pip install tqdm"
   ]
  },
  {
   "cell_type": "code",
   "execution_count": 3,
   "id": "359c9ee2",
   "metadata": {},
   "outputs": [
    {
     "data": {
      "text/plain": [
       "['Test_Case_dataCleaning.csv']"
      ]
     },
     "execution_count": 3,
     "metadata": {},
     "output_type": "execute_result"
    }
   ],
   "source": [
    "import zipfile\n",
    "import os\n",
    "\n",
    "# Path to your ZIP file and extraction directory\n",
    "zip_path = r\"C:\\\\Users\\\\USER\\\\Documents\\\\Motorq_DS_2025\\\\ds_assement_2026_summer_intern\\\\Test_Case_dataCleaning.zip\"\n",
    "extract_to = \"unzipped_data/\"\n",
    "\n",
    "# Extract the zip file\n",
    "with zipfile.ZipFile(zip_path,\"r\") as zip_ref:\n",
    "    zip_ref.extractall(extract_to)\n",
    "\n",
    "# Check extracted contents\n",
    "os.listdir(extract_to)"
   ]
  },
  {
   "cell_type": "code",
   "execution_count": 6,
   "id": "a17d5d15",
   "metadata": {},
   "outputs": [
    {
     "name": "stdout",
     "output_type": "stream",
     "text": [
      "Index(['BODY_CLEANED'], dtype='object')\n"
     ]
    },
    {
     "data": {
      "text/html": [
       "<div>\n",
       "<style scoped>\n",
       "    .dataframe tbody tr th:only-of-type {\n",
       "        vertical-align: middle;\n",
       "    }\n",
       "\n",
       "    .dataframe tbody tr th {\n",
       "        vertical-align: top;\n",
       "    }\n",
       "\n",
       "    .dataframe thead th {\n",
       "        text-align: right;\n",
       "    }\n",
       "</style>\n",
       "<table border=\"1\" class=\"dataframe\">\n",
       "  <thead>\n",
       "    <tr style=\"text-align: right;\">\n",
       "      <th></th>\n",
       "      <th>BODY_CLEANED</th>\n",
       "    </tr>\n",
       "  </thead>\n",
       "  <tbody>\n",
       "    <tr>\n",
       "      <th>0</th>\n",
       "      <td>{\\n  \"meta\": {\\n    \"messageType\": \"VehicleDat...</td>\n",
       "    </tr>\n",
       "  </tbody>\n",
       "</table>\n",
       "</div>"
      ],
      "text/plain": [
       "                                        BODY_CLEANED\n",
       "0  {\\n  \"meta\": {\\n    \"messageType\": \"VehicleDat..."
      ]
     },
     "execution_count": 6,
     "metadata": {},
     "output_type": "execute_result"
    }
   ],
   "source": [
    "import pandas as pd\n",
    "import json\n",
    "from datetime import datetime\n",
    "from tqdm import tqdm \n",
    "\n",
    "# Adjust to actual filename inside ZIP\n",
    "csv_path = extract_to + \"Test_Case_dataCleaning.csv\"\n",
    "df_sample = pd.read_csv(csv_path, nrows=2)\n",
    "print(df_sample.columns)\n",
    "df_sample.head(1)"
   ]
  },
  {
   "cell_type": "code",
   "execution_count": 7,
   "id": "b782badb",
   "metadata": {},
   "outputs": [
    {
     "name": "stdout",
     "output_type": "stream",
     "text": [
      "{\n",
      "  \"meta\": {\n",
      "    \"messageType\": \"VehicleData\",\n",
      "    \"pollerFetchTime\": 1751725939315,\n",
      "    \"version\": \"v2\"\n",
      "  },\n",
      "  \"partitionKey\": \"df979dc9-5cc6-470f-a105-d3108fd03c19\",\n",
      "  \"timestamp\": \"20250705143219.297\",\n",
      "  \"transactionId\": \"df979dc9-5cc6-470f-a105-d3108fd03c19\",\n",
      "  \"vinList\": [\n",
      "    {\n",
      "      \"dischargeWarning\": {\n",
      "        \"hazardStatus\": 0,\n",
      "        \"tailLampStatus\": 0\n",
      "      },\n",
      "      \"evStatusData\": [\n",
      "        {\n",
      "          \"attribute\": \"ign3Status\",\n",
      "          \"dataType\": 1,\n",
      "          \"value\": \"0\"\n",
      "        }\n",
      "      ],\n",
      "      \"headLampStatus\": {\n",
      "        \"headLamp\": 0,\n",
      "        \"leftHighLamp\": 0,\n",
      "        \"leftLowLamp\": 0,\n",
      "        \"rightHighLamp\": 0,\n",
      "        \"rightLowLamp\": 0\n",
      "      },\n",
      "      \"locationTimestamp\": {\n",
      "        \"offSet\": -7,\n",
      "        \"time\": \"20250705143213.000\"\n",
      "      },\n",
      "      \"statusData\": [\n",
      "        {\n",
      "          \"attribute\": \"odometer\",\n",
      "          \"dataType\": 2,\n",
      "          \"unit\": 1,\n",
      "          \"value\": \"28082.6\"\n",
      "        },\n",
      "        {\n",
      "          \"attribute\": \"gasLevel\",\n",
      "          \"dataType\": 1,\n",
      "          \"unit\": 6,\n",
      "          \"value\": \"24\"\n",
      "        },\n",
      "        {\n",
      "          \"attribute\": \"parkingPosition\",\n",
      "          \"dataType\": 1,\n",
      "          \"value\": \"1\"\n",
      "        },\n",
      "        {\n",
      "          \"attribute\": \"engineOilStatus\",\n",
      "          \"dataType\": 1,\n",
      "          \"value\": \"0\"\n",
      "        },\n",
      "        {\n",
      "          \"attribute\": \"airTemp\",\n",
      "          \"dataType\": 1,\n",
      "          \"unit\": 4,\n",
      "          \"value\": \"0\"\n",
      "        },\n",
      "        {\n",
      "          \"attribute\": \"breakOilStatus\",\n",
      "          \"dataType\": 1,\n",
      "          \"value\": \"0\"\n",
      "        },\n",
      "        {\n",
      "          \"attribute\": \"ignStatus\",\n",
      "          \"dataType\": 1,\n",
      "          \"value\": \"1\"\n",
      "        },\n",
      "        {\n",
      "          \"attribute\": \"accModeStatus\",\n",
      "          \"dataType\": 1,\n",
      "          \"value\": \"1\"\n",
      "        },\n",
      "        {\n",
      "          \"attribute\": \"batStatus\",\n",
      "          \"dataType\": 1,\n",
      "          \"unit\": 6,\n",
      "          \"value\": \"92\"\n",
      "        },\n",
      "        {\n",
      "          \"attribute\": \"washerFluidStatus\",\n",
      "          \"dataType\": 1,\n",
      "          \"value\": \"1\"\n",
      "        },\n",
      "        {\n",
      "          \"attribute\": \"traveldirection\",\n",
      "          \"dataType\": 2,\n",
      "          \"unit\": 17,\n",
      "          \"value\": \"268\"\n",
      "        },\n",
      "        {\n",
      "          \"attribute\": \"speed\",\n",
      "          \"dataType\": 1,\n",
      "          \"unit\": 15,\n",
      "          \"value\": \"0\"\n",
      "        }\n",
      "      ],\n",
      "      \"statusTimestamp\": {\n",
      "        \"offSet\": -7,\n",
      "        \"time\": \"20250705143210.000\"\n",
      "      },\n",
      "      \"stopLampStatus\": {\n",
      "        \"leftLamp\": 0,\n",
      "        \"rightLamp\": 0,\n",
      "        \"stopLamp\": 0\n",
      "      },\n",
      "      \"tid\": \"d79a57d4-59ac-11f0-9e9b-2b40fc6391d9\",\n",
      "      \"tirePressureWarning\": {\n",
      "        \"frontLeft\": 0,\n",
      "        \"frontRight\": 0,\n",
      "        \"overall\": 0,\n",
      "        \"rearLeft\": 0,\n",
      "        \"rearRight\": 0\n",
      "      },\n",
      "      \"turnSignalStatus\": {\n",
      "        \"leftFrontLamp\": 0,\n",
      "        \"leftRearLamp\": 0,\n",
      "        \"rightFrontLamp\": 0,\n",
      "        \"rightRearLamp\": 0,\n",
      "        \"turnSignalLamp\": 0\n",
      "      },\n",
      "      \"vin\": \"MASKEDVIN003\"\n",
      "    }\n",
      "  ]\n",
      "}\n"
     ]
    }
   ],
   "source": [
    "# Testing the structure of the file\n",
    "record = json.loads(df_sample[\"BODY_CLEANED\"][0])\n",
    "print(json.dumps(record, indent=2))"
   ]
  },
  {
   "cell_type": "code",
   "execution_count": null,
   "id": "da58d565",
   "metadata": {},
   "outputs": [
    {
     "name": "stderr",
     "output_type": "stream",
     "text": [
      "Reading and Parsing: 16it [02:58, 11.15s/it]\n"
     ]
    }
   ],
   "source": [
    "chunksize = 50000\n",
    "\n",
    "def extract_attributes(status_data: list) -> dict:\n",
    "    return {item[\"attribute\"]: item.get(\"value\") for item in status_data}\n",
    "\n",
    "# Time-stamp based Sorting - merge sort (O(n log n))\n",
    "def merge_sort(arr, key_func):\n",
    "    if len(arr) <= 1:\n",
    "        return arr\n",
    "\n",
    "    mid = len(arr) // 2\n",
    "    left = merge_sort(arr[:mid], key_func)\n",
    "    right = merge_sort(arr[mid:], key_func)\n",
    "\n",
    "    return merge(left, right, key_func)\n",
    "\n",
    "def merge(left, right, key_func):\n",
    "    merged = []\n",
    "    i = j = 0\n",
    "\n",
    "    while i < len(left) and j < len(right):\n",
    "        if key_func(left[i]) <= key_func(right[j]):\n",
    "            merged.append(left[i])\n",
    "            i += 1\n",
    "        else:\n",
    "            merged.append(right[j])\n",
    "            j += 1\n",
    "\n",
    "    merged.extend(left[i:])\n",
    "    merged.extend(right[j:])\n",
    "    return merged\n",
    "\n",
    "parsed_records = []\n",
    "\n",
    "for chunk in tqdm(pd.read_csv(csv_path, chunksize=chunksize), desc=\"Reading and Parsing\"):\n",
    "    for _, row in chunk.iterrows():\n",
    "        try:\n",
    "            raw = json.loads(row[\"BODY_CLEANED\"])\n",
    "            vin_obj = raw[\"vinList\"][0]\n",
    "\n",
    "            # Handle missing VIN\n",
    "            vin = vin_obj.get(\"vin\")\n",
    "            if not vin:\n",
    "                continue\n",
    "\n",
    "            # Check and safely extract statusTimestamp\n",
    "            status_timestamp_info = vin_obj.get(\"statusTimestamp\", {})\n",
    "            status_timestamp_str = status_timestamp_info.get(\"time\")\n",
    "            if not status_timestamp_str:\n",
    "                continue  # skip rows without proper timestamp\n",
    "\n",
    "            # Check and parse pollerFetchTime\n",
    "            poller_time_ms = raw[\"meta\"].get(\"pollerFetchTime\", None)\n",
    "            if poller_time_ms is None:\n",
    "                continue\n",
    "\n",
    "            # Convert timestamps\n",
    "            status_ts = datetime.strptime(status_timestamp_str, \"%Y%m%d%H%M%S.%f\")\n",
    "            poller_ts = datetime.utcfromtimestamp(poller_time_ms / 1000.0)\n",
    "\n",
    "            # Extract telemetry parameters\n",
    "            status_values = extract_attributes(vin_obj.get(\"statusData\", []))\n",
    "            odometer = float(status_values.get(\"odometer\", 0))\n",
    "            fuel = float(status_values.get(\"gasLevel\", 0))\n",
    "            speed = float(status_values.get(\"speed\", 0))\n",
    "            ignition = status_values.get(\"ignStatus\", \"0\")\n",
    "\n",
    "            parsed_records.append({\n",
    "                \"VIN\": vin,\n",
    "                \"statusTimestamp\": status_ts,\n",
    "                \"pollerFetchTime\": poller_ts,\n",
    "                \"odometer\": odometer,\n",
    "                \"fuelLevel\": fuel,\n",
    "                \"speed\": speed,\n",
    "                \"ignitionStatus\": ignition\n",
    "            })\n",
    "\n",
    "        except Exception as e:\n",
    "            print(f\"Skipping row due to error: {e}\")\n"
   ]
  },
  {
   "cell_type": "code",
   "execution_count": 24,
   "id": "e7b2335f",
   "metadata": {},
   "outputs": [
    {
     "name": "stdout",
     "output_type": "stream",
     "text": [
      "Total Parsed Rows: 781941\n",
      "Sample:\n"
     ]
    },
    {
     "data": {
      "text/html": [
       "<div>\n",
       "<style scoped>\n",
       "    .dataframe tbody tr th:only-of-type {\n",
       "        vertical-align: middle;\n",
       "    }\n",
       "\n",
       "    .dataframe tbody tr th {\n",
       "        vertical-align: top;\n",
       "    }\n",
       "\n",
       "    .dataframe thead th {\n",
       "        text-align: right;\n",
       "    }\n",
       "</style>\n",
       "<table border=\"1\" class=\"dataframe\">\n",
       "  <thead>\n",
       "    <tr style=\"text-align: right;\">\n",
       "      <th></th>\n",
       "      <th>VIN</th>\n",
       "      <th>statusTimestamp</th>\n",
       "      <th>pollerFetchTime</th>\n",
       "      <th>odometer</th>\n",
       "      <th>fuelLevel</th>\n",
       "      <th>speed</th>\n",
       "      <th>ignitionStatus</th>\n",
       "    </tr>\n",
       "  </thead>\n",
       "  <tbody>\n",
       "    <tr>\n",
       "      <th>0</th>\n",
       "      <td>MASKEDVIN003</td>\n",
       "      <td>2025-07-05 14:32:10</td>\n",
       "      <td>2025-07-05 14:32:19.315</td>\n",
       "      <td>28082.6</td>\n",
       "      <td>24.0</td>\n",
       "      <td>0.0</td>\n",
       "      <td>1</td>\n",
       "    </tr>\n",
       "    <tr>\n",
       "      <th>1</th>\n",
       "      <td>MASKEDVIN003</td>\n",
       "      <td>2025-07-08 17:00:37</td>\n",
       "      <td>2025-07-08 17:00:40.672</td>\n",
       "      <td>28605.6</td>\n",
       "      <td>100.0</td>\n",
       "      <td>28.0</td>\n",
       "      <td>1</td>\n",
       "    </tr>\n",
       "    <tr>\n",
       "      <th>2</th>\n",
       "      <td>MASKEDVIN003</td>\n",
       "      <td>2025-07-06 18:14:14</td>\n",
       "      <td>2025-07-06 18:14:18.365</td>\n",
       "      <td>28443.6</td>\n",
       "      <td>37.0</td>\n",
       "      <td>0.0</td>\n",
       "      <td>0</td>\n",
       "    </tr>\n",
       "  </tbody>\n",
       "</table>\n",
       "</div>"
      ],
      "text/plain": [
       "            VIN     statusTimestamp         pollerFetchTime  odometer  \\\n",
       "0  MASKEDVIN003 2025-07-05 14:32:10 2025-07-05 14:32:19.315   28082.6   \n",
       "1  MASKEDVIN003 2025-07-08 17:00:37 2025-07-08 17:00:40.672   28605.6   \n",
       "2  MASKEDVIN003 2025-07-06 18:14:14 2025-07-06 18:14:18.365   28443.6   \n",
       "\n",
       "   fuelLevel  speed ignitionStatus  \n",
       "0       24.0    0.0              1  \n",
       "1      100.0   28.0              1  \n",
       "2       37.0    0.0              0  "
      ]
     },
     "metadata": {},
     "output_type": "display_data"
    }
   ],
   "source": [
    "import matplotlib.pyplot as plt\n",
    "\n",
    "# Baseline metrics\n",
    "original_df = pd.DataFrame(parsed_records)\n",
    "print(\"Total Parsed Rows:\", len(original_df))\n",
    "print(\"Sample:\")\n",
    "display(original_df.head(3))"
   ]
  },
  {
   "cell_type": "code",
   "execution_count": 25,
   "id": "3d57ca21",
   "metadata": {},
   "outputs": [
    {
     "name": "stdout",
     "output_type": "stream",
     "text": [
      "Task 1: Out-of-Order Timestamp Removal\n",
      "Rows Before: 781941\n",
      "Rows After: 589594\n",
      "Removed: 192347 (24.60%)\n"
     ]
    }
   ],
   "source": [
    "# Task 1: Out-of-Order data\n",
    "# Ideal Approach: Track latest statusTimestamp seen per VIN. Retain only chronologically increasing messages\n",
    "\n",
    "from collections import defaultdict \n",
    "\n",
    "# parsed_records_sorted = sorted(parsed_records, key=lambda x: (x[\"VIN\"], x[\"pollerFetchTime\"])) ; using built-in\n",
    "\n",
    "parsed_records_sorted = merge_sort(parsed_records, key_func=lambda x: (x[\"VIN\"], x[\"pollerFetchTime\"])) # using the manual merge sort implemented\n",
    "\n",
    "\n",
    "cleaned_1 = []\n",
    "latest_ts_per_vin = {}\n",
    "\n",
    "for row in parsed_records_sorted:\n",
    "    vin = row[\"VIN\"]\n",
    "\n",
    "    status_ts = row[\"statusTimestamp\"]\n",
    "    poller_ts = row[\"pollerFetchTime\"]\n",
    "\n",
    "    if vin not in latest_ts_per_vin or status_ts >= latest_ts_per_vin[vin]:\n",
    "        cleaned_1.append(row)\n",
    "        latest_ts_per_vin[vin] = status_ts\n",
    "    \n",
    "    else :\n",
    "        pass #drop out-of-order\n",
    "\n",
    "# Metrics\n",
    "before = len(parsed_records)        \n",
    "after = len(cleaned_1)\n",
    "removed = before - after\n",
    "percent_removed = (removed/before)*100\n",
    "\n",
    "print(\"Task 1: Out-of-Order Timestamp Removal\")\n",
    "print(f\"Rows Before: {before}\")\n",
    "print(f\"Rows After: {after}\")\n",
    "print(f\"Removed: {removed} ({percent_removed:.2f}%)\")"
   ]
  },
  {
   "cell_type": "code",
   "execution_count": 26,
   "id": "7e2fe3bb",
   "metadata": {},
   "outputs": [
    {
     "data": {
      "image/png": "[encoded data removed]",
      "text/plain": [
       "<Figure size 1000x400 with 1 Axes>"
      ]
     },
     "metadata": {},
     "output_type": "display_data"
    }
   ],
   "source": [
    "# Task 1 visualization\n",
    "import seaborn as sns\n",
    "\n",
    "vin_counts_before = pd.DataFrame(parsed_records).groupby(\"VIN\").size()\n",
    "vin_counts_after = pd.DataFrame(cleaned_1).groupby(\"VIN\").size()\n",
    "\n",
    "comparison_df = pd.DataFrame({\n",
    "    \"Before\": vin_counts_before,\n",
    "    \"After\": vin_counts_after\n",
    "}).dropna()\n",
    "\n",
    "comparison_df[\"Removed\"] = comparison_df[\"Before\"] - comparison_df[\"After\"]\n",
    "\n",
    "plt.figure(figsize=(10,4))\n",
    "comparison_df[\"Removed\"].sort_values(ascending=False).head(10).plot(kind='bar')\n",
    "plt.title(\"VINs with Most Out-of-Order Removals\")\n",
    "plt.ylabel(\"Records Removed\")\n",
    "plt.grid()\n",
    "plt.show()"
   ]
  },
  {
   "cell_type": "code",
   "execution_count": 27,
   "id": "e8ea934c",
   "metadata": {},
   "outputs": [
    {
     "name": "stdout",
     "output_type": "stream",
     "text": [
      "Task 2: Duplicate Timestamp Resolution\n",
      "Rows Before: 589594\n",
      "Rows After: 528978\n",
      "Removed: 60616 (10.28%)\n"
     ]
    }
   ],
   "source": [
    "# Task 2 : Duplicate/Conflicting messages\n",
    "# Ideal Approach: Group by (VIN, statusTimestamp). Keep only record with earliest pollerFetchTime\n",
    "\n",
    "best_by_ts = defaultdict(lambda: None)\n",
    "\n",
    "for row in cleaned_1:\n",
    "    key = (row[\"VIN\"], row[\"statusTimestamp\"])\n",
    "    current_poll = row[\"pollerFetchTime\"]\n",
    "\n",
    "    if best_by_ts[key] is None or current_poll < best_by_ts[key][\"pollerFetchTime\"]:\n",
    "        best_by_ts[key] = row\n",
    "\n",
    "cleaned_2 = list(best_by_ts.values())\n",
    "\n",
    "#Metrics\n",
    "before = len(cleaned_1)\n",
    "after = len(cleaned_2)\n",
    "removed = before - after\n",
    "percent_removed = (removed / before) * 100\n",
    "\n",
    "print(\"Task 2: Duplicate Timestamp Resolution\")\n",
    "print(f\"Rows Before: {before}\")\n",
    "print(f\"Rows After: {after}\")\n",
    "print(f\"Removed: {removed} ({percent_removed:.2f}%)\")"
   ]
  },
  {
   "cell_type": "code",
   "execution_count": 28,
   "id": "682202d3",
   "metadata": {},
   "outputs": [
    {
     "data": {
      "image/png": "[encoded data removed]",
      "text/plain": [
       "<Figure size 1000x400 with 1 Axes>"
      ]
     },
     "metadata": {},
     "output_type": "display_data"
    }
   ],
   "source": [
    "# Task 2 visualization\n",
    "import matplotlib.pyplot as plt\n",
    "\n",
    "df1 = pd.DataFrame(cleaned_1)\n",
    "df2 = pd.DataFrame(cleaned_2)\n",
    "\n",
    "dupe_diff = df1[\"VIN\"].value_counts() - df2[\"VIN\"].value_counts()\n",
    "dupe_diff = dupe_diff.dropna().sort_values(ascending=False)\n",
    "\n",
    "dupe_diff.head(10).plot(kind=\"bar\", figsize=(10,4), color='coral')\n",
    "plt.title(\"VINs with Most Duplicate Timestamps Removed\")\n",
    "plt.ylabel(\"Duplicate Rows Removed\")\n",
    "plt.grid()\n",
    "plt.show()"
   ]
  },
  {
   "cell_type": "code",
   "execution_count": 29,
   "id": "49f79043",
   "metadata": {},
   "outputs": [
    {
     "name": "stdout",
     "output_type": "stream",
     "text": [
      "Task 3: Odometer Rollback Removal\n",
      "Rows Before: 528978\n",
      "Rows After: 503523\n",
      "Removed: 25455 (4.81%)\n"
     ]
    }
   ],
   "source": [
    "# Task 3 : Odometer Anomalies\n",
    "# Ideal Approach: Track last seen odometer for each VIN. Remove rows where odometer decreases\n",
    "\n",
    "cleaned_3 = []\n",
    "last_odo_per_vin = {}\n",
    "\n",
    "for row in sorted(cleaned_2, key=lambda x: (x[\"VIN\"], x[\"statusTimestamp\"])):\n",
    "    vin = row[\"VIN\"]\n",
    "    odo = row[\"odometer\"]\n",
    "\n",
    "    if vin not in last_odo_per_vin or odo >= last_odo_per_vin[vin]:\n",
    "        cleaned_3.append(row)\n",
    "        last_odo_per_vin[vin] = odo\n",
    "\n",
    "#Metrics\n",
    "before = len(cleaned_2)\n",
    "after = len(cleaned_3)\n",
    "removed = before - after\n",
    "percent_removed = (removed / before) * 100\n",
    "\n",
    "print(\"Task 3: Odometer Rollback Removal\")\n",
    "print(f\"Rows Before: {before}\")\n",
    "print(f\"Rows After: {after}\")\n",
    "print(f\"Removed: {removed} ({percent_removed:.2f}%)\")"
   ]
  },
  {
   "cell_type": "code",
   "execution_count": 35,
   "id": "a7207743",
   "metadata": {},
   "outputs": [
    {
     "data": {
      "image/png": "[encoded data removed]",
      "text/plain": [
       "<Figure size 640x480 with 1 Axes>"
      ]
     },
     "metadata": {},
     "output_type": "display_data"
    }
   ],
   "source": [
    "# Task 3 Visualization\n",
    "\n",
    "df3 = pd.DataFrame(cleaned_3)\n",
    "\n",
    "# Pick a sample VIN\n",
    "sample_vin = df3[\"VIN\"].value_counts().index[0]\n",
    "\n",
    "sample_df = df3[df3[\"VIN\"] == sample_vin].sort_values(\"statusTimestamp\")\n",
    "\n",
    "plt.plot(sample_df[\"statusTimestamp\"], sample_df[\"odometer\"], marker=\"o\")\n",
    "plt.title(f\"Odometer Trend for {sample_vin}\")\n",
    "plt.xlabel(\"Time\")\n",
    "plt.ylabel(\"Odometer\")\n",
    "plt.grid()\n",
    "plt.xticks(rotation=45)\n",
    "plt.tight_layout()\n",
    "plt.show()"
   ]
  },
  {
   "cell_type": "code",
   "execution_count": 22,
   "id": "158c5e30",
   "metadata": {},
   "outputs": [
    {
     "name": "stdout",
     "output_type": "stream",
     "text": [
      "Final cleaned dataset saved to : C:\\\\Users\\\\USER\\\\Documents\\\\Motorq_DS_2025\\\\cleaned_vehicle_data.csv\n"
     ]
    }
   ],
   "source": [
    "# Final export\n",
    "final_df = pd.DataFrame(cleaned_3)\n",
    "final_df[\"statusTimestamp\"] = final_df[\"statusTimestamp\"].astype(str)\n",
    "final_df[\"pollerFetchTime\"] = final_df[\"pollerFetchTime\"].astype(str)\n",
    "\n",
    "output_path = r\"C:\\\\Users\\\\USER\\\\Documents\\\\Motorq_DS_2025\\\\cleaned_vehicle_data.csv\"\n",
    "final_df.to_csv(output_path, index=False)\n",
    "\n",
    "print(f\"Final cleaned dataset saved to : {output_path}\")"
   ]
  }
 ],
 "metadata": {
  "kernelspec": {
   "display_name": "base",
   "language": "python",
   "name": "python3"
  },
  "language_info": {
   "codemirror_mode": {
    "name": "ipython",
    "version": 3
   },
   "file_extension": ".py",
   "mimetype": "text/x-python",
   "name": "python",
   "nbconvert_exporter": "python",
   "pygments_lexer": "ipython3",
   "version": "3.11.3"
  }
 },
 "nbformat": 4,
 "nbformat_minor": 5
}
